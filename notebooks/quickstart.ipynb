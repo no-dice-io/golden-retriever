{
 "cells": [
  {
   "cell_type": "markdown",
   "metadata": {},
   "source": [
    "# GoldenRetriever Quickstart\n",
    "*Woof woof*\n",
    "\n",
    "This tutorial showcases how to leverage a GoldenRetriever: A custom Hybrid Retriever built to auto-fine-tune your hybrid retriever according to the category of query provided.\n",
    "\n",
    "In this tutorial, default alpha configuration is being used as derived from the following tutorials/research:\n",
    "- https://blog.llamaindex.ai/llamaindex-enhancing-retrieval-performance-with-alpha-tuning-in-hybrid-search-in-rag-135d0c9b8a00\n",
    "- https://techcommunity.microsoft.com/t5/ai-azure-ai-services-blog/azure-ai-search-outperforming-vector-search-with-hybrid/ba-p/3929167\n",
    "\n",
    "If you'd like to implement more custom, use-case specific categories and alpha configuration - please see the custom categories notebook(custom_categories.ipynb)."
   ]
  },
  {
   "cell_type": "code",
   "execution_count": null,
   "metadata": {
    "vscode": {
     "languageId": "plaintext"
    }
   },
   "outputs": [],
   "source": [
    "#tbd"
   ]
  }
 ],
 "metadata": {
  "language_info": {
   "name": "python"
  }
 },
 "nbformat": 4,
 "nbformat_minor": 2
}
